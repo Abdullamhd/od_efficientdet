{
  "nbformat": 4,
  "nbformat_minor": 0,
  "metadata": {
    "colab": {
      "provenance": [],
      "machine_shape": "hm",
      "private_outputs": true,
      "mount_file_id": "1bOuskuYxg9b0rkZU6ST5X2BEj31Pn0-n",
      "authorship_tag": "ABX9TyOdB+93ZRySgtZbNqVrubfQ",
      "include_colab_link": true
    },
    "kernelspec": {
      "name": "python3",
      "display_name": "Python 3"
    },
    "language_info": {
      "name": "python"
    },
    "accelerator": "GPU",
    "gpuClass": "premium"
  },
  "cells": [
    {
      "cell_type": "markdown",
      "metadata": {
        "id": "view-in-github",
        "colab_type": "text"
      },
      "source": [
        "<a href=\"https://colab.research.google.com/github/Abdullamhd/od_efficientdet/blob/main/tflite_model_maker_github_hosted.ipynb\" target=\"_parent\"><img src=\"https://colab.research.google.com/assets/colab-badge.svg\" alt=\"Open In Colab\"/></a>"
      ]
    },
    {
      "cell_type": "code",
      "execution_count": null,
      "metadata": {
        "id": "Z6G655soag6m"
      },
      "outputs": [],
      "source": [
        " %%capture\n",
        "\n",
        "!sudo apt -y install libportaudio2\n",
        "!pip install protobuf==3.19.4\n",
        "!pip install -q --use-deprecated=legacy-resolver tflite-model-maker\n",
        "!pip install -q pycocotools\n",
        "!pip install -q opencv-python-headless==4.1.2.30\n",
        "!pip uninstall -y tensorflow && pip install -q tensorflow==2.8.0\n"
      ]
    },
    {
      "cell_type": "code",
      "source": [
        "import numpy as np\n",
        "import os\n",
        "\n",
        "from tflite_model_maker.config import QuantizationConfig\n",
        "from tflite_model_maker.config import ExportFormat\n",
        "from tflite_model_maker import model_spec\n",
        "from tflite_model_maker import object_detector\n",
        "\n",
        "import tensorflow as tf\n",
        "assert tf.__version__.startswith('2')\n",
        "\n",
        "tf.get_logger().setLevel('ERROR')\n",
        "from absl import logging\n",
        "logging.set_verbosity(logging.ERROR)"
      ],
      "metadata": {
        "id": "KQ7GDPQJbTRS"
      },
      "execution_count": null,
      "outputs": []
    },
    {
      "cell_type": "code",
      "source": [
        "spec = model_spec.get('efficientdet_lite0')"
      ],
      "metadata": {
        "id": "04khavF4c8h4"
      },
      "execution_count": null,
      "outputs": []
    },
    {
      "cell_type": "code",
      "source": [
        "!mkdir raw_data\n",
        "!mkdir train_data"
      ],
      "metadata": {
        "id": "Y8HA0Dx8dMix"
      },
      "execution_count": null,
      "outputs": []
    },
    {
      "cell_type": "code",
      "source": [
        "!wget -P /content/raw_data https://raw.githubusercontent.com/Abdullamhd/od_efficientdet/main/dataset_apple_orange.zip"
      ],
      "metadata": {
        "id": "Un4RfPQ-fYuV"
      },
      "execution_count": null,
      "outputs": []
    },
    {
      "cell_type": "code",
      "source": [
        "%%capture\n",
        "!unzip /content/raw_data/dataset_apple_orange.zip  -d /content/train_data"
      ],
      "metadata": {
        "id": "yQmEvoAkeZe_"
      },
      "execution_count": null,
      "outputs": []
    },
    {
      "cell_type": "code",
      "source": [
        "train_data  = object_detector.DataLoader.from_pascal_voc('/content/train_data/dataset/train/Images', '/content/train_data/dataset/train/Annotations', label_map={1: \"apple\",2:\"orange\"})\n"
      ],
      "metadata": {
        "id": "tX8h9AH3dB2P"
      },
      "execution_count": null,
      "outputs": []
    },
    {
      "cell_type": "code",
      "source": [
        "test_data =  object_detector.DataLoader.from_pascal_voc('/content/train_data/dataset/test/Images', '/content/train_data/dataset/test/Annotations', label_map={1: \"apple\",2:\"orange\"})"
      ],
      "metadata": {
        "id": "IKsz56M3oIv8"
      },
      "execution_count": null,
      "outputs": []
    },
    {
      "cell_type": "code",
      "source": [
        "model = object_detector.create(train_data, model_spec=spec, batch_size=8, train_whole_model=True, validation_data=test_data)"
      ],
      "metadata": {
        "id": "_2M6C0-QfmWM"
      },
      "execution_count": null,
      "outputs": []
    },
    {
      "cell_type": "code",
      "source": [
        "model.export(export_dir='.')"
      ],
      "metadata": {
        "id": "7xBmuRGZrDx7"
      },
      "execution_count": null,
      "outputs": []
    },
    {
      "cell_type": "code",
      "source": [
        "!cp /content/model.tflite /content/drive/MyDrive/tensorflow_lite_dataset"
      ],
      "metadata": {
        "id": "zqWspTSU7YiP"
      },
      "execution_count": null,
      "outputs": []
    }
  ]
}